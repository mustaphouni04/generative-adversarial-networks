{
 "cells": [
  {
   "cell_type": "code",
   "execution_count": 37,
   "metadata": {},
   "outputs": [],
   "source": [
    "# Import torch and matplotlib\n",
    "\n",
    "import torch\n",
    "from torch import nn\n",
    "\n",
    "import math\n",
    "import matplotlib.pyplot as plt\n"
   ]
  },
  {
   "cell_type": "code",
   "execution_count": 38,
   "metadata": {},
   "outputs": [
    {
     "data": {
      "text/plain": [
       "<torch._C.Generator at 0x252b14010f0>"
      ]
     },
     "execution_count": 38,
     "metadata": {},
     "output_type": "execute_result"
    }
   ],
   "source": [
    "# Use 42 as random seed to initialize rand num generator to initialize nn weights\n",
    "torch.manual_seed(42)"
   ]
  },
  {
   "cell_type": "code",
   "execution_count": 39,
   "metadata": {},
   "outputs": [],
   "source": [
    "X_len = 1024\n",
    "X_train = torch.zeros((X_len, 2)) # 1024 samples and 2 features\n",
    "\n",
    "# store rand values in the interval from 0 to 2pi\n",
    "X_train[:, 0] = 2 * math.pi * torch.rand(X_len) # x1 = 2pi*x1(rand-i)(in range 0 to 1, deal with proba)\n",
    "X_train[:, 1] = torch.asin(X_train[:, 0]) # x2 = sin(x1)\n",
    "\n",
    "# create tensor for labels y\n",
    "y_train = torch.zeros(X_len) \n",
    "train_set = [(X_train[i], y_train[i]) for i in range(X_len)]"
   ]
  },
  {
   "cell_type": "code",
   "execution_count": 40,
   "metadata": {},
   "outputs": [
    {
     "data": {
      "text/plain": [
       "[<matplotlib.lines.Line2D at 0x252b960e740>]"
      ]
     },
     "execution_count": 40,
     "metadata": {},
     "output_type": "execute_result"
    },
    {
     "data": {
      "image/png": "[encoded data removed]",
      "text/plain": [
       "<Figure size 640x480 with 1 Axes>"
      ]
     },
     "metadata": {},
     "output_type": "display_data"
    }
   ],
   "source": [
    "plt.plot(X_train[:, 0], X_train[:, 1], \".\")"
   ]
  },
  {
   "cell_type": "code",
   "execution_count": 36,
   "metadata": {},
   "outputs": [],
   "source": [
    "# Create PyTorch data loader\n",
    "batch_size = 32\n",
    "\n",
    "# This train loader will shuffle data from the training set and return batches of 32 samples that we'll use to train the nn\n",
    "train_loader = torch.utils.data.DataLoader(train_set, batch_size = batch_size, shuffle = True)"
   ]
  },
  {
   "cell_type": "code",
   "execution_count": null,
   "metadata": {},
   "outputs": [],
   "source": [
    "# Creating the class for the discriminator\n",
    "\n",
    "class Discriminator(nn.Module):\n",
    "    def __init__(self):\n",
    "        super().__init__()\n",
    "         # This architecture is designed for binary classification tasks, with the model outputting a single probability value between 0 and 1.\n",
    "        self.model = nn.Sequential(\n",
    "            \n",
    "        # HLayer 1 --> Linear layer, input size = 2, output size = 256, activation func = ReLU, regularization with Dropout rate 0.3\n",
    "        nn.Linear(2, 256),\n",
    "        nn.ReLU(),\n",
    "        nn.Dropout(0.3),\n",
    "        \n",
    "        # HLayer 2 --> Linear layer, input size = 256, output size = 128, activation func = ReLU, regularization with Dropout rate 0.3\n",
    "        nn.Linear(256, 128),\n",
    "        nn.ReLU(),\n",
    "        nn.Dropout(0.3),\n",
    "        \n",
    "        # HLayer 3 --> Linear layer, input size = 128, output size = 64, activation func = ReLU, regularization with Dropout rate 0.3\n",
    "        nn.Linear(128, 64),\n",
    "        nn.ReLU(),\n",
    "        nn.Dropout(0.3),\n",
    "        \n",
    "        # Output layer --> Out layer, input size = 64, output size = 1, activation func = Sigmoid\n",
    "        nn.Linear(64, 1),\n",
    "        nn.Sigmoid(),\n",
    "        )"
   ]
  }
 ],
 "metadata": {
  "kernelspec": {
   "display_name": "gan",
   "language": "python",
   "name": "gan"
  },
  "language_info": {
   "codemirror_mode": {
    "name": "ipython",
    "version": 3
   },
   "file_extension": ".py",
   "mimetype": "text/x-python",
   "name": "python",
   "nbconvert_exporter": "python",
   "pygments_lexer": "ipython3",
   "version": "3.10.13"
  }
 },
 "nbformat": 4,
 "nbformat_minor": 2
}
