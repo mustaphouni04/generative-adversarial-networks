{
 "cells": [
  {
   "cell_type": "code",
   "execution_count": 92,
   "metadata": {},
   "outputs": [],
   "source": [
    "# Import torch and matplotlib\n",
    "\n",
    "import torch\n",
    "from torch import nn\n",
    "\n",
    "import math\n",
    "import matplotlib.pyplot as plt\n"
   ]
  },
  {
   "cell_type": "code",
   "execution_count": 93,
   "metadata": {},
   "outputs": [
    {
     "data": {
      "text/plain": [
       "<torch._C.Generator at 0x1e1f0dddab0>"
      ]
     },
     "execution_count": 93,
     "metadata": {},
     "output_type": "execute_result"
    }
   ],
   "source": [
    "# Use 42 as random seed to initialize rand num generator to initialize nn weights\n",
    "torch.manual_seed(42)"
   ]
  },
  {
   "cell_type": "code",
   "execution_count": 94,
   "metadata": {},
   "outputs": [],
   "source": [
    "X_len = 1024\n",
    "X_train = torch.zeros((X_len, 2)) # 1024 samples and 2 features\n",
    "\n",
    "# store rand values in the interval from 0 to 2pi\n",
    "X_train[:, 0] = 2 * math.pi * torch.rand(X_len) # x1 = 2pi*x1(rand-i)(in range 0 to 1, deal with proba)\n",
    "X_train[:, 1] = torch.sin(X_train[:, 0]) # x2 = sin(x1)\n",
    "\n",
    "# create tensor for labels y\n",
    "y_train = torch.zeros(X_len) \n",
    "train_set = [(X_train[i], y_train[i]) for i in range(X_len)]"
   ]
  },
  {
   "cell_type": "code",
   "execution_count": 95,
   "metadata": {},
   "outputs": [
    {
     "data": {
      "text/plain": [
       "[<matplotlib.lines.Line2D at 0x1e1909a7880>]"
      ]
     },
     "execution_count": 95,
     "metadata": {},
     "output_type": "execute_result"
    },
    {
     "data": {
      "image/png": "[encoded data removed]",
      "text/plain": [
       "<Figure size 640x480 with 1 Axes>"
      ]
     },
     "metadata": {},
     "output_type": "display_data"
    }
   ],
   "source": [
    "plt.plot(X_train[:, 0], X_train[:, 1], \".\")"
   ]
  },
  {
   "cell_type": "code",
   "execution_count": 96,
   "metadata": {},
   "outputs": [],
   "source": [
    "# Create PyTorch data loader\n",
    "batch_size = 32\n",
    "\n",
    "# This train loader will shuffle data from the training set and return batches of 32 samples that we'll use to train the nn\n",
    "train_loader = torch.utils.data.DataLoader(train_set, batch_size = batch_size, shuffle = True)"
   ]
  },
  {
   "cell_type": "code",
   "execution_count": 97,
   "metadata": {},
   "outputs": [],
   "source": [
    "# Creating the class for the discriminator\n",
    "\n",
    "class Discriminator(nn.Module):\n",
    "    def __init__(self):\n",
    "        super().__init__()\n",
    "         # This architecture is designed for binary classification tasks, with the model outputting a single probability value between 0 and 1.\n",
    "        self.model = nn.Sequential(\n",
    "            # HLayer 1 --> Linear layer, input size = 2, output size = 256, activation func = ReLU, regularization with Dropout rate 0.3\n",
    "            nn.Linear(2, 256),\n",
    "            nn.ReLU(),\n",
    "            nn.Dropout(0.3),\n",
    "\n",
    "            # HLayer 2 --> Linear layer, input size = 256, output size = 128, activation func = ReLU, regularization with Dropout rate 0.3\n",
    "            nn.Linear(256, 128),\n",
    "            nn.ReLU(),\n",
    "            nn.Dropout(0.3),\n",
    "\n",
    "            # HLayer 3 --> Linear layer, input size = 128, output size = 64, activation func = ReLU, regularization with Dropout rate 0.3\n",
    "            nn.Linear(128, 64),\n",
    "            nn.ReLU(),\n",
    "            nn.Dropout(0.3),\n",
    "\n",
    "            # Output layer --> Out layer, input size = 64, output size = 1, activation func = Sigmoid\n",
    "            nn.Linear(64, 1),\n",
    "            nn.Sigmoid(),\n",
    "        )\n",
    "        \n",
    "    def forward(self, x): # calculating output of model by giving it a 2d-tensor with features\n",
    "        output = self.model(x)\n",
    "        return output\n",
    "    \n",
    "    \n",
    "discriminator = Discriminator()"
   ]
  },
  {
   "cell_type": "code",
   "execution_count": 98,
   "metadata": {},
   "outputs": [],
   "source": [
    "class Generator(nn.Module):\n",
    "    def __init__(self):\n",
    "        super().__init__()\n",
    "        self.model = nn.Sequential(\n",
    "            nn.Linear(2, 16),\n",
    "            nn.ReLU(),\n",
    "            \n",
    "            nn.Linear(16, 32),\n",
    "            nn.ReLU(),\n",
    "            \n",
    "            nn.Linear(32, 2),\n",
    "        )\n",
    "    \n",
    "    def forward(self, x):\n",
    "        output = self.model(x)\n",
    "        return output\n",
    "    \n",
    "\n",
    "generator = Generator()\n"
   ]
  },
  {
   "cell_type": "code",
   "execution_count": 99,
   "metadata": {},
   "outputs": [],
   "source": [
    "# Training the models\n",
    "\n",
    "lr = 0.001 # learning rate\n",
    "\n",
    "num_epochs = 300 # num of (forward + backward) updates in weights\n",
    "\n",
    "loss_function = nn.BCELoss() # Use binary-cross entropy loss (considers binary classification)\n",
    "\n",
    "# create adam optimizer for each nn\n",
    "optimizer_discriminator = torch.optim.Adam(discriminator.parameters(), lr=lr)\n",
    "optimizer_generator = torch.optim.Adam(generator.parameters(), lr=lr)\n"
   ]
  },
  {
   "cell_type": "code",
   "execution_count": 100,
   "metadata": {},
   "outputs": [
    {
     "name": "stdout",
     "output_type": "stream",
     "text": [
      "Epoch: 0 Loss D.: 0.08785366266965866\n",
      "Epoch: 0 Loss G.: 2.6136231422424316\n",
      "Epoch: 10 Loss D.: 0.5773575901985168\n",
      "Epoch: 10 Loss G.: 1.024950623512268\n",
      "Epoch: 20 Loss D.: 0.5909786820411682\n",
      "Epoch: 20 Loss G.: 1.0029020309448242\n",
      "Epoch: 30 Loss D.: 0.6433771252632141\n",
      "Epoch: 30 Loss G.: 0.6776714324951172\n",
      "Epoch: 40 Loss D.: 0.6156270503997803\n",
      "Epoch: 40 Loss G.: 0.7750454545021057\n",
      "Epoch: 50 Loss D.: 0.6512038707733154\n",
      "Epoch: 50 Loss G.: 0.8403823375701904\n",
      "Epoch: 60 Loss D.: 0.6975504755973816\n",
      "Epoch: 60 Loss G.: 0.6825464367866516\n",
      "Epoch: 70 Loss D.: 0.6766268014907837\n",
      "Epoch: 70 Loss G.: 0.7169647216796875\n",
      "Epoch: 80 Loss D.: 0.7394551038742065\n",
      "Epoch: 80 Loss G.: 0.7169885635375977\n",
      "Epoch: 90 Loss D.: 0.6646876335144043\n",
      "Epoch: 90 Loss G.: 0.7835054397583008\n",
      "Epoch: 100 Loss D.: 0.714181661605835\n",
      "Epoch: 100 Loss G.: 0.6877954006195068\n",
      "Epoch: 110 Loss D.: 0.6848954558372498\n",
      "Epoch: 110 Loss G.: 0.7292106747627258\n",
      "Epoch: 120 Loss D.: 0.7137100100517273\n",
      "Epoch: 120 Loss G.: 0.641744077205658\n",
      "Epoch: 130 Loss D.: 0.7083975672721863\n",
      "Epoch: 130 Loss G.: 0.695318877696991\n",
      "Epoch: 140 Loss D.: 0.6854195594787598\n",
      "Epoch: 140 Loss G.: 0.7425912022590637\n",
      "Epoch: 150 Loss D.: 0.6373485922813416\n",
      "Epoch: 150 Loss G.: 0.7003982067108154\n",
      "Epoch: 160 Loss D.: 0.6981338858604431\n",
      "Epoch: 160 Loss G.: 0.7759898900985718\n",
      "Epoch: 170 Loss D.: 0.7367469072341919\n",
      "Epoch: 170 Loss G.: 0.6927920579910278\n",
      "Epoch: 180 Loss D.: 0.6937737464904785\n",
      "Epoch: 180 Loss G.: 0.7527167797088623\n",
      "Epoch: 190 Loss D.: 0.6798474788665771\n",
      "Epoch: 190 Loss G.: 0.696147084236145\n",
      "Epoch: 200 Loss D.: 0.6863592863082886\n",
      "Epoch: 200 Loss G.: 0.7333676218986511\n",
      "Epoch: 210 Loss D.: 0.6641605496406555\n",
      "Epoch: 210 Loss G.: 0.7248812317848206\n",
      "Epoch: 220 Loss D.: 0.72281813621521\n",
      "Epoch: 220 Loss G.: 0.7237691879272461\n",
      "Epoch: 230 Loss D.: 0.6523516178131104\n",
      "Epoch: 230 Loss G.: 0.682549238204956\n",
      "Epoch: 240 Loss D.: 0.6941758990287781\n",
      "Epoch: 240 Loss G.: 0.8438666462898254\n",
      "Epoch: 250 Loss D.: 0.6695420145988464\n",
      "Epoch: 250 Loss G.: 0.7101144194602966\n",
      "Epoch: 260 Loss D.: 0.6603068709373474\n",
      "Epoch: 260 Loss G.: 0.7373586297035217\n",
      "Epoch: 270 Loss D.: 0.6519758701324463\n",
      "Epoch: 270 Loss G.: 0.7401929497718811\n",
      "Epoch: 280 Loss D.: 0.70704185962677\n",
      "Epoch: 280 Loss G.: 0.710133969783783\n",
      "Epoch: 290 Loss D.: 0.6704663038253784\n",
      "Epoch: 290 Loss G.: 0.7098391652107239\n"
     ]
    }
   ],
   "source": [
    "# Training loop\n",
    "\n",
    "for epoch in range(num_epochs):\n",
    "    for n, (real_samples, _) in enumerate(train_loader): # get real samples of current batch and assign them to real_samples n = 32\n",
    "        # Organizing data for training the discriminator\n",
    "        labels_real_samp = torch.ones((batch_size, 1))\n",
    "        latent_samp = torch.randn((batch_size, 2)) # used to feed generator with generated samples\n",
    "        \n",
    "        generated_samples = generator(latent_samp)\n",
    "        labels_generated_samp = torch.zeros((batch_size, 1))\n",
    "        all_samp = torch.cat((real_samples, generated_samples)) # concatenate real samples with generated ones\n",
    "        labels_all_samp = torch.cat(\n",
    "            (labels_real_samp, labels_generated_samp)\n",
    "        )\n",
    "        \n",
    "        # Train discriminator\n",
    "        discriminator.zero_grad() # clear gradients at each training step to avoid acumulation\n",
    "        output_discriminator = discriminator(all_samp)\n",
    "        loss_discriminator = loss_function(output_discriminator, labels_all_samp) # how good is it at classifying all samples correctly\n",
    "        loss_discriminator.backward()\n",
    "        optimizer_discriminator.step()\n",
    "        \n",
    "        # Organizing data for training the generator\n",
    "        latent_samp = torch.randn((batch_size, 2))\n",
    "        \n",
    "        # Train generator\n",
    "        generator.zero_grad()\n",
    "        generated_samples = generator(latent_samp) \n",
    "        \n",
    "        output_discriminator_generated = discriminator(generated_samples)\n",
    "        loss_generator = loss_function(output_discriminator_generated, labels_real_samp) # we want the fake samples to be as close as possible to the real ones\n",
    "        \n",
    "        loss_generator.backward()\n",
    "        optimizer_generator.step()\n",
    "        \n",
    "        # show the loss\n",
    "        if epoch % 10 == 0 and n == batch_size - 1:\n",
    "            print(f\"Epoch: {epoch} Loss D.: {loss_discriminator}\")\n",
    "            print(f\"Epoch: {epoch} Loss G.: {loss_generator}\")\n",
    "        "
   ]
  },
  {
   "cell_type": "code",
   "execution_count": 101,
   "metadata": {},
   "outputs": [
    {
     "data": {
      "text/plain": [
       "[<matplotlib.lines.Line2D at 0x1e190cafac0>]"
      ]
     },
     "execution_count": 101,
     "metadata": {},
     "output_type": "execute_result"
    },
    {
     "data": {
      "image/png": "[encoded data removed]",
      "text/plain": [
       "<Figure size 640x480 with 1 Axes>"
      ]
     },
     "metadata": {},
     "output_type": "display_data"
    }
   ],
   "source": [
    "# Checking samples generated by the GAN\n",
    "\n",
    "latent_samp = torch.randn(100, 2)\n",
    "generated_samp = generator(latent_samp)\n",
    "\n",
    "generated_samples = generated_samples.detach() # use detach to return tensor from PyTorch computational graph\n",
    "plt.plot(generated_samples[:, 0], generated_samples[:, 1], \".\")"
   ]
  },
  {
   "cell_type": "code",
   "execution_count": null,
   "metadata": {},
   "outputs": [],
   "source": []
  }
 ],
 "metadata": {
  "kernelspec": {
   "display_name": "gan",
   "language": "python",
   "name": "gan"
  },
  "language_info": {
   "codemirror_mode": {
    "name": "ipython",
    "version": 3
   },
   "file_extension": ".py",
   "mimetype": "text/x-python",
   "name": "python",
   "nbconvert_exporter": "python",
   "pygments_lexer": "ipython3",
   "version": "3.10.13"
  }
 },
 "nbformat": 4,
 "nbformat_minor": 2
}
